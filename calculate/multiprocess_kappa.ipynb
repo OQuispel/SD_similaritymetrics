{
 "cells": [
  {
   "cell_type": "code",
   "execution_count": 1,
   "metadata": {
    "execution": {
     "iopub.execute_input": "2020-10-22T08:41:00.631173Z",
     "iopub.status.busy": "2020-10-22T08:41:00.631173Z",
     "iopub.status.idle": "2020-10-22T08:41:01.302323Z",
     "shell.execute_reply": "2020-10-22T08:41:01.302323Z",
     "shell.execute_reply.started": "2020-10-22T08:41:00.631173Z"
    }
   },
   "outputs": [],
   "source": [
    "from multiprocessing import Pool\n",
    "from function import *\n",
    "import tqdm"
   ]
  },
  {
   "cell_type": "markdown",
   "metadata": {},
   "source": [
    "# Run Kappa"
   ]
  },
  {
   "cell_type": "code",
   "execution_count": 2,
   "metadata": {
    "execution": {
     "iopub.execute_input": "2020-10-22T08:41:01.303324Z",
     "iopub.status.busy": "2020-10-22T08:41:01.303324Z",
     "iopub.status.idle": "2020-10-22T08:41:15.878019Z",
     "shell.execute_reply": "2020-10-22T08:41:15.878019Z",
     "shell.execute_reply.started": "2020-10-22T08:41:01.303324Z"
    }
   },
   "outputs": [
    {
     "name": "stderr",
     "output_type": "stream",
     "text": [
      "100%|██████████████████████████████████████████████████████████████████████████████████| 10/10 [00:14<00:00,  1.44s/it]\n"
     ]
    }
   ],
   "source": [
    "kappa = []\n",
    "kappa_maps1 = []\n",
    "kappa_maps2 = []\n",
    "\n",
    "with Pool(16) as pool:\n",
    "    iterable =  [(i, 'kappa') for i in range(multi_its)]\n",
    "    for n1, n2, sts in tqdm.tqdm(pool.istarmap(run_comparisons, iterable),\n",
    "                       total=len(iterable)):\n",
    "        kappa_maps1.append(n1)\n",
    "        kappa_maps2.append(n2)\n",
    "        kappa.append(sts) \n",
    "#store output to disk       \n",
    "multi_df(kappa_maps1, kappa_maps2, kappa, 'kappa')"
   ]
  }
 ],
 "metadata": {
  "kernelspec": {
   "display_name": "Python 3",
   "language": "python",
   "name": "python3"
  },
  "language_info": {
   "codemirror_mode": {
    "name": "ipython",
    "version": 3
   },
   "file_extension": ".py",
   "mimetype": "text/x-python",
   "name": "python",
   "nbconvert_exporter": "python",
   "pygments_lexer": "ipython3",
   "version": "3.7.3"
  }
 },
 "nbformat": 4,
 "nbformat_minor": 4
}
