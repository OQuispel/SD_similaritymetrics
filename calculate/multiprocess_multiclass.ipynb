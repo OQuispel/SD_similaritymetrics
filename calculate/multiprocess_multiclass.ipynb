{
 "cells": [
  {
   "cell_type": "code",
   "execution_count": 1,
   "metadata": {
    "execution": {
     "iopub.status.idle": "2020-11-09T10:37:53.591355Z",
     "shell.execute_reply": "2020-11-09T10:37:53.591355Z",
     "shell.execute_reply.started": "2020-11-09T10:37:51.250101Z"
    }
   },
   "outputs": [],
   "source": [
    "from multiprocessing import Pool\n",
    "import tqdm\n",
    "from function_multiclass import *"
   ]
  },
  {
   "cell_type": "markdown",
   "metadata": {},
   "source": [
    "## Catergorical metrics calculated for landuse class 'Nature' in this notebook:\n",
    "1. Percentage of Landscape (PLAND)\n",
    "2. Total Class Area (TCA)\n",
    "\n",
    "The other categorical metric 'Total Quantity Difference' for Nature is calculated in a different notebook as it is calculated between pairs of maps instead of as a unique value per map"
   ]
  },
  {
   "cell_type": "code",
   "execution_count": 2,
   "metadata": {
    "execution": {
     "iopub.execute_input": "2020-11-09T10:37:53.592339Z",
     "iopub.status.busy": "2020-11-09T10:37:53.592339Z",
     "iopub.status.idle": "2020-11-09T11:02:56.205461Z",
     "shell.execute_reply": "2020-11-09T11:02:56.203461Z",
     "shell.execute_reply.started": "2020-11-09T10:37:53.592339Z"
    }
   },
   "outputs": [
    {
     "name": "stderr",
     "output_type": "stream",
     "text": [
      "100%|██████████████████████████████████████████████████████████████████████████████| 1000/1000 [25:02<00:00,  1.50s/it]\n"
     ]
    }
   ],
   "source": [
    "# Assign focal land use class here; defaults to 'Nature' (class_id=22)\n",
    "class_id = 3\n",
    "\n",
    "pland4 = []\n",
    "tca4 = []\n",
    "pland8 = []\n",
    "tca8 = []\n",
    "pland9 = []\n",
    "tca9 = []\n",
    "pland12 = []\n",
    "tca12 = []\n",
    "pland14 = []\n",
    "tca14 = []\n",
    "pland16 = []\n",
    "tca16 = []\n",
    "pland19 = []\n",
    "tca19 = []\n",
    "pland21 = []\n",
    "tca21 = []\n",
    "#number of parallel processes to run\n",
    "num_workers = 12\n",
    "\n",
    "with Pool(num_workers) as p:\n",
    "    iterable =  [(i, class_id) for i in range(single_its)]\n",
    "    for pl4_1, pl4_2, tca4_1, tca4_2, pl8_1, pl8_2, tca8_1, tca8_2, pl9_1, pl9_2, tca9_1, tca9_2 \\\n",
    "            , pl12_1, pl12_2, tca12_1, tca12_2, pl14_1, pl14_2, tca14_1, tca14_2, pl16_1, pl16_2 \\\n",
    "            , tca16_1, tca16_2, pl19_1, pl19_2, tca19_1, tca19_2, pl21_1, pl21_2, tca21_1, tca21_2 in tqdm.tqdm(p.istarmap(calc_classes, iterable),\n",
    "                       total=len(iterable)):\n",
    "        pland4.append(pl4_1)\n",
    "        pland4.append(pl4_2)\n",
    "        tca4.append(tca4_1)\n",
    "        tca4.append(tca4_2)        \n",
    "\n",
    "        pland8.append(pl8_1)\n",
    "        pland8.append(pl8_2)\n",
    "        tca8.append(tca8_1)\n",
    "        tca8.append(tca8_2)\n",
    "\n",
    "        pland9.append(pl9_1)\n",
    "        pland9.append(pl9_2)\n",
    "        tca9.append(tca9_1)\n",
    "        tca9.append(tca9_2)\n",
    "\n",
    "        pland12.append(pl12_1)\n",
    "        pland12.append(pl12_2)\n",
    "        tca12.append(tca12_1)\n",
    "        tca12.append(tca12_2)\n",
    "\n",
    "        pland14.append(pl14_1)\n",
    "        pland14.append(pl14_2)\n",
    "        tca14.append(tca14_1)\n",
    "        tca14.append(tca14_2)\n",
    "\n",
    "        pland16.append(pl16_1)\n",
    "        pland16.append(pl16_2)\n",
    "        tca16.append(tca16_1)\n",
    "        tca16.append(tca16_2)\n",
    "\n",
    "        pland19.append(pl19_1)\n",
    "        pland19.append(pl19_2)\n",
    "        tca19.append(tca19_1)\n",
    "        tca19.append(tca19_2)\n",
    "\n",
    "        pland21.append(pl21_1)\n",
    "        pland21.append(pl21_2)\n",
    "        tca21.append(tca21_1)\n",
    "        tca21.append(tca21_2)"
   ]
  },
  {
   "cell_type": "code",
   "execution_count": 3,
   "metadata": {
    "execution": {
     "iopub.execute_input": "2020-11-09T11:02:56.226466Z",
     "iopub.status.busy": "2020-11-09T11:02:56.225466Z",
     "iopub.status.idle": "2020-11-09T11:03:49.429656Z",
     "shell.execute_reply": "2020-11-09T11:03:49.429656Z",
     "shell.execute_reply.started": "2020-11-09T11:02:56.226466Z"
    }
   },
   "outputs": [],
   "source": [
    "#store output to disk\n",
    "single_df(maps, pland4, 'PLAND4')\n",
    "single_df(maps, tca4, 'TCA4')\n",
    "\n",
    "single_df(maps, pland8, 'PLAND8')\n",
    "single_df(maps, tca8, 'TCA8')\n",
    "\n",
    "single_df(maps, pland9, 'PLAND9')\n",
    "single_df(maps, tca9, 'TCA9')\n",
    "\n",
    "single_df(maps, pland12, 'PLAND12')\n",
    "single_df(maps, tca12, 'TCA12')\n",
    "\n",
    "single_df(maps, pland14, 'PLAND14')\n",
    "single_df(maps, tca14, 'TCA14')\n",
    "\n",
    "single_df(maps, pland16, 'PLAND16')\n",
    "single_df(maps, tca16, 'TCA16')\n",
    "\n",
    "single_df(maps, pland19, 'PLAND19')\n",
    "single_df(maps, tca19, 'TCA19')\n",
    "\n",
    "single_df(maps, pland21, 'PLAND21')\n",
    "single_df(maps, tca21, 'TCA21')"
   ]
  },
  {
   "cell_type": "code",
   "execution_count": null,
   "metadata": {},
   "outputs": [],
   "source": []
  }
 ],
 "metadata": {
  "kernelspec": {
   "display_name": "Python 3",
   "language": "python",
   "name": "python3"
  },
  "language_info": {
   "codemirror_mode": {
    "name": "ipython",
    "version": 3
   },
   "file_extension": ".py",
   "mimetype": "text/x-python",
   "name": "python",
   "nbconvert_exporter": "python",
   "pygments_lexer": "ipython3",
   "version": "3.7.3"
  }
 },
 "nbformat": 4,
 "nbformat_minor": 4
}
