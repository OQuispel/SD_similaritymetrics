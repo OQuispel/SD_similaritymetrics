{
 "cells": [
  {
   "cell_type": "code",
   "execution_count": 1,
   "metadata": {
    "execution": {
     "iopub.execute_input": "2020-12-15T13:38:38.252015Z",
     "iopub.status.busy": "2020-12-15T13:38:38.251015Z",
     "iopub.status.idle": "2020-12-15T13:38:39.815482Z",
     "shell.execute_reply": "2020-12-15T13:38:39.815482Z",
     "shell.execute_reply.started": "2020-12-15T13:38:38.252015Z"
    }
   },
   "outputs": [],
   "source": [
    "import pandas as pd\n",
    "import numpy as np\n",
    "import matplotlib.pyplot as plt\n",
    "import seaborn as sns\n",
    "import itertools as its\n",
    "import function_pontius as fpt\n",
    "import heatmap_cm as hmcm\n",
    "from pathlib import Path\n",
    "import openpyxl\n",
    "import xlsxwriter"
   ]
  },
  {
   "cell_type": "markdown",
   "metadata": {},
   "source": [
    "# One CM that combines quantity disagreement for all maps"
   ]
  },
  {
   "cell_type": "code",
   "execution_count": 2,
   "metadata": {
    "execution": {
     "iopub.execute_input": "2020-12-15T13:38:39.817482Z",
     "iopub.status.busy": "2020-12-15T13:38:39.817482Z",
     "iopub.status.idle": "2020-12-15T13:38:39.832485Z",
     "shell.execute_reply": "2020-12-15T13:38:39.831485Z",
     "shell.execute_reply.started": "2020-12-15T13:38:39.817482Z"
    }
   },
   "outputs": [],
   "source": [
    "data = []\n",
    "row_name = []\n",
    "\n",
    "def heatmap_qd(map1, map2):\n",
    "    \"\"\"This function takes in two map names and returns the quantity disagreement for each land-use category.\n",
    "    The returned values show for each class the percentage (relative to the whole map) of cells that map 1 \n",
    "    predicted differently than map 2 for that class, with negative values meaning that map 2 predicted more of that category.\n",
    "    \"\"\"\n",
    "    # Load in the maps and set up variables to process the maps\n",
    "    map1_dir = 'E:/thesis_data/asc_2k/' + map1 + '.asc'\n",
    "    map2_dir = 'E:/thesis_data/asc_2k/' + map2 + '.asc'    \n",
    "    m1 = np.loadtxt(map1_dir, skiprows=6)\n",
    "    m2 = np.loadtxt(map2_dir, skiprows=6)\n",
    "    cm = fpt.conf_mat(m1, m2)\n",
    "    # Set up dataframe and adjust for land-use categories that are removed from the df\n",
    "    rows_cols = ['class' + str(i + 1) for i in range(28)]\n",
    "    rows_cols.remove('class24')\n",
    "    rows_cols.remove('class28')\n",
    "    df = pd.DataFrame(data=cm, index=rows_cols, columns=rows_cols)\n",
    "    # Create the pontius class and generate the cm matrix with additional info\n",
    "    df_pont = hmcm.pontiPy(df)\n",
    "    df_matrix = df_pont.matrix()\n",
    "    df_matrix['RowDisagreement'] = pd.to_numeric(df_matrix['RowDisagreement'])\n",
    "    # Assign dummy value to cell to prevent error warning\n",
    "    df_matrix.loc['ColumnDisagreement', 'RowDisagreement'] = 0\n",
    "    #Store disagreement\n",
    "    rowdata = df_matrix.loc[:'class27', 'RowDisagreement']\n",
    "    coldata = df_matrix.loc['ColumnDisagreement', :'class27']\n",
    "    qd = rowdata - coldata\n",
    "    # Format the data to filter out low data and round interesting outcomes\n",
    "    for i, val in enumerate(qd):\n",
    "        if val < 0.0001 and val > -0.0001 :\n",
    "            qd[i] = 0\n",
    "        else:\n",
    "            qd[i] = qd[i].round(4)   \n",
    "    # Create label for new df\n",
    "    n1 = map1[3:]\n",
    "    n2 = map2[3:]\n",
    "    row_id = 'Map ' + n1 + ' & ' + n2\n",
    "    return qd, row_id\n",
    "    \n",
    "def heatmap_to_excel(hm, metric):\n",
    "    excel_dir = 'E:/thesis_images/representative_maps/excels/heatmap_qd.xlsx'\n",
    "\n",
    "    writer = pd.ExcelWriter(excel_dir, engine = 'openpyxl')\n",
    "    book = openpyxl.load_workbook(excel_dir)\n",
    "    writer.book = book\n",
    "    # Write each metric to their own sheet\n",
    "    sheet_id = metric\n",
    "    hm.to_excel(writer, sheet_name=sheet_id)\n",
    "\n",
    "    writer.save()\n",
    "    writer.close()"
   ]
  },
  {
   "cell_type": "code",
   "execution_count": 37,
   "metadata": {
    "execution": {
     "iopub.execute_input": "2020-12-15T14:00:51.431346Z",
     "iopub.status.busy": "2020-12-15T14:00:51.430345Z",
     "iopub.status.idle": "2020-12-15T14:07:34.676961Z",
     "shell.execute_reply": "2020-12-15T14:07:34.676961Z",
     "shell.execute_reply.started": "2020-12-15T14:00:51.430345Z"
    }
   },
   "outputs": [],
   "source": [
    "# Create CM showing quantity disagreement for kappa representative maps\n",
    "# Overal difference has same maps as kappa so no point \n",
    "kappa_data = []\n",
    "kappa_row_name = []\n",
    "kappa_maps = ['map359', 'map456', 'map541', 'map695', 'map1148', 'map1760', 'map1911']\n",
    "iterator = its.permutations(kappa_maps, 2)\n",
    "\n",
    "for dat, row in its.starmap(heatmap_qd, iterator):\n",
    "    kappa_data.append(dat)\n",
    "    kappa_row_name.append(row)\n",
    "\n",
    "df = pd.DataFrame(data=kappa_data, index=kappa_row_name)\n",
    "df = df.rename(columns={'class1':'Railway', 'class2':'Road', 'class3':'Airport', 'class4':'Residential', 'class5':'Industrial', 'class6':'Facillities', 'class7':'Ports' \\\n",
    "        ,'class8':'Construction Area', 'class9':'Semi hardened area', 'class10':'Recreational (daily)', 'class11':'Recreational (residence)' \\\n",
    "       , 'class12':'Grass (residential area)', 'class13':'Greenhouse Horticulture', 'class14':'Corn', 'class15':'Potatoes', 'class16':'Beets' \\\n",
    "        , 'class17':'Grains', 'class18':'Openground Vegatables', 'class19':'Flower bulbs', 'class20':'Pasturage' \\\n",
    "       , 'class21':'Orchard', 'class22':'Arboriculture', 'class23':'Nature', 'class25':'Large Fresh Water', 'class26':'Rivers', 'class27':'Misc Waters'}) \n",
    "df = df.loc[:, (df != 0).any(axis=0)]\n",
    "# Apply heatmap to cm using pandas styler\n",
    "kappa_heatmap = df.style.background_gradient(cmap='coolwarm', axis=None)"
   ]
  },
  {
   "cell_type": "code",
   "execution_count": 182,
   "metadata": {
    "execution": {
     "iopub.execute_input": "2020-12-15T15:27:04.596911Z",
     "iopub.status.busy": "2020-12-15T15:27:04.596911Z",
     "iopub.status.idle": "2020-12-15T15:27:06.043247Z",
     "shell.execute_reply": "2020-12-15T15:27:06.043247Z",
     "shell.execute_reply.started": "2020-12-15T15:27:04.596911Z"
    }
   },
   "outputs": [],
   "source": [
    "# Create seaborn heatmap and save to disk\n",
    "plt.figure(figsize=(25, 25))\n",
    "hm_kappa = sns.heatmap(df, cmap='coolwarm', fmt=\".4f\", annot=True, square=True, annot_kws={\"size\": 8} \\\n",
    "                , cbar_kws={'label': 'Percentage difference in land-use category assignment','pad': 0.015, 'shrink': .4})\n",
    "_ = hm_kappa.set_xticklabels(hm_kappa.get_xticklabels(), rotation=60)\n",
    "_ = hm_kappa.set_yticklabels(hm_kappa.get_yticklabels(), rotation=0)\n",
    "plt.ylabel('Representative Map Pair', fontsize=16)\n",
    "plt.xlabel('Land-Use Category', fontsize=16) \n",
    "plt.title('Representative Map Comparisons \\n For Kappa', fontsize=20)\n",
    "cbar = hm_kappa.collections[0].colorbar\n",
    "cbar.set_label(label='Percentage Difference In Land-Use Category Assignment', fontsize=12)\n",
    "\n",
    "plt.savefig('E:/thesis_images/representative_maps/cm_figures/kappa.png', format='png', bbox_inches=\"tight\")\n",
    "plt.close()"
   ]
  },
  {
   "cell_type": "code",
   "execution_count": 38,
   "metadata": {
    "execution": {
     "iopub.execute_input": "2020-12-15T14:07:34.677961Z",
     "iopub.status.busy": "2020-12-15T14:07:34.677961Z",
     "iopub.status.idle": "2020-12-15T14:14:15.571886Z",
     "shell.execute_reply": "2020-12-15T14:14:15.571886Z",
     "shell.execute_reply.started": "2020-12-15T14:07:34.677961Z"
    }
   },
   "outputs": [],
   "source": [
    "# Create CM showing quantity disagreement for oa representative maps\n",
    "oa_data = []\n",
    "oa_row_name = []\n",
    "oa_maps = ['map10', 'map359', 'map456', 'map541', 'map695', 'map696', 'map1911']\n",
    "iterator = its.permutations(oa_maps, 2)\n",
    "\n",
    "for dat, row in its.starmap(heatmap_qd, iterator):\n",
    "    oa_data.append(dat)\n",
    "    oa_row_name.append(row)\n",
    "\n",
    "df2 = pd.DataFrame(data=oa_data, index=oa_row_name)\n",
    "df2 = df2.rename(columns={'class1':'Railway', 'class2':'Road', 'class3':'Airport', 'class4':'Residential', 'class5':'Industrial', 'class6':'Facillities', 'class7':'Ports' \\\n",
    "        ,'class8':'Construction Area', 'class9':'Semi hardened area', 'class10':'Recreational (daily)', 'class11':'Recreational (residence)' \\\n",
    "       , 'class12':'Grass (residential area)', 'class13':'Greenhouse Horticulture', 'class14':'Corn', 'class15':'Potatoes', 'class16':'Beets' \\\n",
    "        , 'class17':'Grains', 'class18':'Openground Vegatables', 'class19':'Flower bulbs', 'class20':'Pasturage' \\\n",
    "       , 'class21':'Orchard', 'class22':'Arboriculture', 'class23':'Nature', 'class25':'Large Fresh Water', 'class26':'Rivers', 'class27':'Misc Waters'}) \n",
    "df2 = df2.loc[:, (df2 != 0).any(axis=0)]\n",
    "# Apply heatmap to cm using pandas styler\n",
    "oa_heatmap = df2.style.background_gradient(cmap='coolwarm', axis=None)"
   ]
  },
  {
   "cell_type": "code",
   "execution_count": 161,
   "metadata": {
    "execution": {
     "iopub.execute_input": "2020-12-15T15:23:27.941313Z",
     "iopub.status.busy": "2020-12-15T15:23:27.940313Z",
     "iopub.status.idle": "2020-12-15T15:23:29.383342Z",
     "shell.execute_reply": "2020-12-15T15:23:29.383342Z",
     "shell.execute_reply.started": "2020-12-15T15:23:27.941313Z"
    }
   },
   "outputs": [],
   "source": [
    "# Create seaborn heatmap and save to disk\n",
    "plt.figure(figsize=(25, 25))\n",
    "hm_oa = sns.heatmap(df2, cmap='coolwarm', fmt=\".4f\", annot=True, square=True, annot_kws={\"size\": 8} \\\n",
    "                , cbar_kws={'label': 'Percentage difference in land-use category assignment','pad': 0.015, 'shrink': .3})\n",
    "_ = hm_oa.set_xticklabels(hm_oa.get_xticklabels(), rotation=50)\n",
    "_ = hm_oa.set_yticklabels(hm_oa.get_yticklabels(), rotation=0)\n",
    "plt.ylabel('Representative Map Pair', fontsize=16)\n",
    "plt.xlabel('Land-Use Category', fontsize=16) \n",
    "plt.title('Representative Map Comparisons \\n For Overall Accuracy', fontsize=20)\n",
    "cbar = hm_oa.collections[0].colorbar\n",
    "cbar.set_label(label='Percentage Difference In Land-Use Category Assignment', fontsize=16)\n",
    "\n",
    "plt.savefig('E:/thesis_images/representative_maps/cm_figures/oa.png', format='png', bbox_inches=\"tight\")\n",
    "plt.close()"
   ]
  },
  {
   "cell_type": "code",
   "execution_count": 39,
   "metadata": {
    "execution": {
     "iopub.execute_input": "2020-12-15T14:14:15.572886Z",
     "iopub.status.busy": "2020-12-15T14:14:15.572886Z",
     "iopub.status.idle": "2020-12-15T14:16:10.286724Z",
     "shell.execute_reply": "2020-12-15T14:16:10.286724Z",
     "shell.execute_reply.started": "2020-12-15T14:14:15.572886Z"
    }
   },
   "outputs": [],
   "source": [
    "# Create CM showing quantity disagreement for shannon's representative maps\n",
    "shan_data = []\n",
    "shan_row_name = []\n",
    "shan_maps = ['map61', 'map1248', 'map1454', 'map1457']\n",
    "iterator = its.permutations(shan_maps, 2)\n",
    "\n",
    "for dat, row in its.starmap(heatmap_qd, iterator):\n",
    "    shan_data.append(dat)\n",
    "    shan_row_name.append(row)\n",
    "\n",
    "df3 = pd.DataFrame(data=shan_data, index=shan_row_name)\n",
    "df3 = df3.rename(columns={'class1':'Railway', 'class2':'Road', 'class3':'Airport', 'class4':'Residential', 'class5':'Industrial', 'class6':'Facillities', 'class7':'Ports' \\\n",
    "        ,'class8':'Construction Area', 'class9':'Semi hardened area', 'class10':'Recreational (daily)', 'class11':'Recreational (residence)' \\\n",
    "       , 'class12':'Grass (residential area)', 'class13':'Greenhouse Horticulture', 'class14':'Corn', 'class15':'Potatoes', 'class16':'Beets' \\\n",
    "        , 'class17':'Grains', 'class18':'Openground Vegatables', 'class19':'Flower bulbs', 'class20':'Pasturage' \\\n",
    "       , 'class21':'Orchard', 'class22':'Arboriculture', 'class23':'Nature', 'class25':'Large Fresh Water', 'class26':'Rivers', 'class27':'Misc Waters'}) \n",
    "df3 = df3.loc[:, (df3 != 0).any(axis=0)]\n",
    "# Apply heatmap to cm using pandas styler\n",
    "shan_heatmap = df3.style.background_gradient(cmap='coolwarm', axis=None)"
   ]
  },
  {
   "cell_type": "code",
   "execution_count": 171,
   "metadata": {
    "execution": {
     "iopub.execute_input": "2020-12-15T15:24:41.124836Z",
     "iopub.status.busy": "2020-12-15T15:24:41.124836Z",
     "iopub.status.idle": "2020-12-15T15:24:41.791142Z",
     "shell.execute_reply": "2020-12-15T15:24:41.791142Z",
     "shell.execute_reply.started": "2020-12-15T15:24:41.124836Z"
    }
   },
   "outputs": [],
   "source": [
    "# Create seaborn heatmap and save to disk\n",
    "plt.figure(figsize=(17, 12))\n",
    "hm_shan = sns.heatmap(df3, cmap='coolwarm', fmt=\".4f\", annot=True, square=True, annot_kws={\"size\": 8} \\\n",
    "                , cbar_kws={'label': 'Percentage difference in land-use category assignment','pad': 0.015, 'shrink': .5})\n",
    "_ = hm_shan.set_xticklabels(hm_shan.get_xticklabels(), rotation=50)\n",
    "_ = hm_shan.set_yticklabels(hm_shan.get_yticklabels(), rotation=0)\n",
    "plt.ylabel('Representative Map Pair', fontsize=16)\n",
    "plt.xlabel('Land-Use Category', fontsize=16) \n",
    "plt.title('Representative Map Comparisons \\n For Shannon\\'s Diversity Index', fontsize=20)\n",
    "cbar = hm_shan.collections[0].colorbar\n",
    "cbar.set_label(label='Percentage Difference In Land-Use Category Assignment', fontsize=12)\n",
    "\n",
    "plt.savefig('E:/thesis_images/representative_maps/cm_figures/shan.png', format='png', bbox_inches=\"tight\")\n",
    "plt.close()"
   ]
  },
  {
   "cell_type": "code",
   "execution_count": 40,
   "metadata": {
    "execution": {
     "iopub.execute_input": "2020-12-15T14:16:10.287724Z",
     "iopub.status.busy": "2020-12-15T14:16:10.287724Z",
     "iopub.status.idle": "2020-12-15T14:19:20.378284Z",
     "shell.execute_reply": "2020-12-15T14:19:20.378284Z",
     "shell.execute_reply.started": "2020-12-15T14:16:10.287724Z"
    }
   },
   "outputs": [],
   "source": [
    "# Create CM showing quantity disagreement for simpson's representative maps\n",
    "simp_data = []\n",
    "simp_row_name = []\n",
    "simp_maps = ['map65', 'map857', 'map1448', 'map1784', 'map1830']\n",
    "iterator = its.permutations(simp_maps, 2)\n",
    "\n",
    "for dat, row in its.starmap(heatmap_qd, iterator):\n",
    "    simp_data.append(dat)\n",
    "    simp_row_name.append(row)\n",
    "    \n",
    "df4 = pd.DataFrame(data=simp_data, index=simp_row_name)\n",
    "df4 = df4.rename(columns={'class1':'Railway', 'class2':'Road', 'class3':'Airport', 'class4':'Residential', 'class5':'Industrial', 'class6':'Facillities', 'class7':'Ports' \\\n",
    "        ,'class8':'Construction Area', 'class9':'Semi hardened area', 'class10':'Recreational (daily)', 'class11':'Recreational (residence)' \\\n",
    "       , 'class12':'Grass (residential area)', 'class13':'Greenhouse Horticulture', 'class14':'Corn', 'class15':'Potatoes', 'class16':'Beets' \\\n",
    "        , 'class17':'Grains', 'class18':'Openground Vegatables', 'class19':'Flower bulbs', 'class20':'Pasturage' \\\n",
    "       , 'class21':'Orchard', 'class22':'Arboriculture', 'class23':'Nature', 'class25':'Large Fresh Water', 'class26':'Rivers', 'class27':'Misc Waters'}) \n",
    "df4 = df4.loc[:, (df4 != 0).any(axis=0)]\n",
    "# Apply heatmap to cm using pandas styler\n",
    "simp_heatmap = df4.style.background_gradient(cmap='coolwarm', axis=None)"
   ]
  },
  {
   "cell_type": "code",
   "execution_count": 168,
   "metadata": {
    "execution": {
     "iopub.execute_input": "2020-12-15T15:24:29.556638Z",
     "iopub.status.busy": "2020-12-15T15:24:29.556638Z",
     "iopub.status.idle": "2020-12-15T15:24:30.625328Z",
     "shell.execute_reply": "2020-12-15T15:24:30.625328Z",
     "shell.execute_reply.started": "2020-12-15T15:24:29.556638Z"
    }
   },
   "outputs": [],
   "source": [
    "# Create seaborn heatmap and save to disk\n",
    "plt.figure(figsize=(15, 15))\n",
    "hm_simp = sns.heatmap(df4, cmap='coolwarm', fmt=\".4f\", annot=True, square=True, annot_kws={\"size\": 8} \\\n",
    "                , cbar_kws={'label': 'Percentage difference in land-use category assignment','pad': 0.015, 'shrink': .5})\n",
    "_ = hm_simp.set_xticklabels(hm_simp.get_xticklabels(), rotation=50)\n",
    "_ = hm_simp.set_yticklabels(hm_simp.get_yticklabels(), rotation=0)\n",
    "plt.ylabel('Representative Map Pair', fontsize=16)\n",
    "plt.xlabel('Land-Use Category', fontsize=16) \n",
    "plt.title('Representative Map Comparisons \\n For Simpson\\'s Diversity Index', fontsize=20)\n",
    "cbar = hm_simp.collections[0].colorbar\n",
    "cbar.set_label(label='Percentage Difference In Land-Use Category Assignment', fontsize=12)\n",
    "\n",
    "plt.savefig('E:/thesis_images/representative_maps/cm_figures/simp.png', format='png', bbox_inches=\"tight\")\n",
    "plt.close()"
   ]
  },
  {
   "cell_type": "code",
   "execution_count": 41,
   "metadata": {
    "execution": {
     "iopub.execute_input": "2020-12-15T14:19:20.379284Z",
     "iopub.status.busy": "2020-12-15T14:19:20.379284Z",
     "iopub.status.idle": "2020-12-15T14:24:06.633600Z",
     "shell.execute_reply": "2020-12-15T14:24:06.633600Z",
     "shell.execute_reply.started": "2020-12-15T14:19:20.379284Z"
    }
   },
   "outputs": [],
   "source": [
    "# Create CM showing quantity disagreement for oad representative maps\n",
    "oad_data = []\n",
    "oad_row_name = []\n",
    "oad_maps = ['map263', 'map453', 'map678', 'map1760', 'map1852', 'map1918']\n",
    "iterator = its.permutations(oad_maps, 2)\n",
    "\n",
    "for dat, row in its.starmap(heatmap_qd, iterator):\n",
    "    oad_data.append(dat)\n",
    "    oad_row_name.append(row)\n",
    "    \n",
    "df5 = pd.DataFrame(data=oad_data, index=oad_row_name)\n",
    "df5 = df5.rename(columns={'class1':'Railway', 'class2':'Road', 'class3':'Airport', 'class4':'Residential', 'class5':'Industrial', 'class6':'Facillities', 'class7':'Ports' \\\n",
    "        ,'class8':'Construction Area', 'class9':'Semi hardened area', 'class10':'Recreational (daily)', 'class11':'Recreational (residence)' \\\n",
    "       , 'class12':'Grass (residential area)', 'class13':'Greenhouse Horticulture', 'class14':'Corn', 'class15':'Potatoes', 'class16':'Beets' \\\n",
    "        , 'class17':'Grains', 'class18':'Openground Vegatables', 'class19':'Flower bulbs', 'class20':'Pasturage' \\\n",
    "       , 'class21':'Orchard', 'class22':'Arboriculture', 'class23':'Nature', 'class25':'Large Fresh Water', 'class26':'Rivers', 'class27':'Misc Waters'}) \n",
    "df5 = df5.loc[:, (df5 != 0).any(axis=0)]\n",
    "# Apply heatmap to cm using pandas styler\n",
    "oad_heatmap = df5.style.background_gradient(cmap='coolwarm', axis=None)"
   ]
  },
  {
   "cell_type": "code",
   "execution_count": 176,
   "metadata": {
    "execution": {
     "iopub.execute_input": "2020-12-15T15:25:16.959899Z",
     "iopub.status.busy": "2020-12-15T15:25:16.959899Z",
     "iopub.status.idle": "2020-12-15T15:25:17.871141Z",
     "shell.execute_reply": "2020-12-15T15:25:17.871141Z",
     "shell.execute_reply.started": "2020-12-15T15:25:16.959899Z"
    }
   },
   "outputs": [],
   "source": [
    "# Create seaborn heatmap and save to disk\n",
    "plt.figure(figsize=(18, 18))\n",
    "hm_oad = sns.heatmap(df5, cmap='coolwarm', fmt=\".4f\", annot=True, square=True, annot_kws={\"size\": 8} \\\n",
    "                , cbar_kws={'label': 'Percentage difference in land-use category assignment','pad': 0.015, 'shrink': .3})\n",
    "_ = hm_oad.set_xticklabels(hm_oad.get_xticklabels(), rotation=60)\n",
    "_ = hm_oad.set_yticklabels(hm_oad.get_yticklabels(), rotation=0)\n",
    "plt.ylabel('Representative Map Pair', fontsize=16)\n",
    "plt.xlabel('Land-Use Category', fontsize=16) \n",
    "plt.title('Representative Map Comparisons \\n For Overall Allocation Difference', fontsize=20, pad=1)\n",
    "cbar = hm_oad.collections[0].colorbar\n",
    "cbar.set_label(label='Percentage difference in land-use category assignment', fontsize=12)\n",
    "\n",
    "plt.savefig('E:/thesis_images/representative_maps/cm_figures/oad.png', format='png', bbox_inches=\"tight\")\n",
    "plt.close()"
   ]
  },
  {
   "cell_type": "code",
   "execution_count": 42,
   "metadata": {
    "execution": {
     "iopub.execute_input": "2020-12-15T14:24:06.635601Z",
     "iopub.status.busy": "2020-12-15T14:24:06.635601Z",
     "iopub.status.idle": "2020-12-15T14:26:01.242260Z",
     "shell.execute_reply": "2020-12-15T14:26:01.242260Z",
     "shell.execute_reply.started": "2020-12-15T14:24:06.635601Z"
    }
   },
   "outputs": [],
   "source": [
    "# Create CM showing quantity disagreement for oqd representative maps\n",
    "oqd_data = []\n",
    "oqd_row_name = []\n",
    "oqd_maps = ['map1057', 'map1472', 'map1833', 'map1978']\n",
    "iterator = its.permutations(oqd_maps, 2)\n",
    "\n",
    "for dat, row in its.starmap(heatmap_qd, iterator):\n",
    "    oqd_data.append(dat)\n",
    "    oqd_row_name.append(row)\n",
    "    \n",
    "df6 = pd.DataFrame(data=oqd_data, index=oqd_row_name)\n",
    "df6 = df6.rename(columns={'class1':'Railway', 'class2':'Road', 'class3':'Airport', 'class4':'Residential', 'class5':'Industrial', 'class6':'Facillities', 'class7':'Ports' \\\n",
    "        ,'class8':'Construction Area', 'class9':'Semi hardened area', 'class10':'Recreational (daily)', 'class11':'Recreational (residence)' \\\n",
    "       , 'class12':'Grass (residential area)', 'class13':'Greenhouse Horticulture', 'class14':'Corn', 'class15':'Potatoes', 'class16':'Beets' \\\n",
    "        , 'class17':'Grains', 'class18':'Openground Vegatables', 'class19':'Flower bulbs', 'class20':'Pasturage' \\\n",
    "       , 'class21':'Orchard', 'class22':'Arboriculture', 'class23':'Nature', 'class25':'Large Fresh Water', 'class26':'Rivers', 'class27':'Misc Waters'}) \n",
    "df6 = df6.loc[:, (df6 != 0).any(axis=0)]\n",
    "# Apply heatmap to cm using pandas styler\n",
    "oqd_heatmap = df6.style.background_gradient(cmap='coolwarm', axis=None)"
   ]
  },
  {
   "cell_type": "code",
   "execution_count": 189,
   "metadata": {
    "execution": {
     "iopub.execute_input": "2020-12-15T15:29:28.164911Z",
     "iopub.status.busy": "2020-12-15T15:29:28.164911Z",
     "iopub.status.idle": "2020-12-15T15:29:28.793839Z",
     "shell.execute_reply": "2020-12-15T15:29:28.793839Z",
     "shell.execute_reply.started": "2020-12-15T15:29:28.164911Z"
    }
   },
   "outputs": [],
   "source": [
    "# Create seaborn heatmap and save to disk\n",
    "plt.figure(figsize=(12, 12))\n",
    "hm_oqd = sns.heatmap(df6, cmap='coolwarm', fmt=\".4f\", annot=True, square=True, annot_kws={\"size\": 8} \\\n",
    "                , cbar_kws={'label': 'Percentage difference in land-use category assignment','pad': 0.015, 'shrink': .4})\n",
    "_ = hm_oqd.set_xticklabels(hm_oqd.get_xticklabels(), rotation=65)\n",
    "_ = hm_oqd.set_yticklabels(hm_oqd.get_yticklabels(), rotation=0)\n",
    "plt.ylabel('Representative Map Pair', fontsize=16)\n",
    "plt.xlabel('Land-Use Category', fontsize=16) \n",
    "plt.title('Representative Map Comparisons \\n For Overall Quantity Difference', fontsize=20, pad=1)\n",
    "cbar = hm_oqd.collections[0].colorbar\n",
    "cbar.set_label(label='Percentage difference in land-use category assignment', fontsize=12)\n",
    "\n",
    "plt.savefig('E:/thesis_images/representative_maps/cm_figures/oqd.png', format='png', bbox_inches=\"tight\")\n",
    "plt.close()"
   ]
  },
  {
   "cell_type": "code",
   "execution_count": 43,
   "metadata": {
    "execution": {
     "iopub.execute_input": "2020-12-15T14:26:01.243260Z",
     "iopub.status.busy": "2020-12-15T14:26:01.243260Z",
     "iopub.status.idle": "2020-12-15T14:26:59.012510Z",
     "shell.execute_reply": "2020-12-15T14:26:59.012510Z",
     "shell.execute_reply.started": "2020-12-15T14:26:01.243260Z"
    }
   },
   "outputs": [],
   "source": [
    "# Create CM showing quantity disagreement for tca4 representative maps\n",
    "tca4_data = []\n",
    "tca4_row_name = []\n",
    "tca4_maps = ['map217', 'map332', 'map604']\n",
    "iterator = its.permutations(tca4_maps, 2)\n",
    "\n",
    "for dat, row in its.starmap(heatmap_qd, iterator):\n",
    "    tca4_data.append(dat)\n",
    "    tca4_row_name.append(row)\n",
    "    \n",
    "df7 = pd.DataFrame(data=tca4_data, index=tca4_row_name)\n",
    "df7 = df7.rename(columns={'class1':'Railway', 'class2':'Road', 'class3':'Airport', 'class4':'Residential', 'class5':'Industrial', 'class6':'Facillities', 'class7':'Ports' \\\n",
    "        ,'class8':'Construction Area', 'class9':'Semi hardened area', 'class10':'Recreational (daily)', 'class11':'Recreational (residence)' \\\n",
    "       , 'class12':'Grass (residential area)', 'class13':'Greenhouse Horticulture', 'class14':'Corn', 'class15':'Potatoes', 'class16':'Beets' \\\n",
    "        , 'class17':'Grains', 'class18':'Openground Vegatables', 'class19':'Flower bulbs', 'class20':'Pasturage' \\\n",
    "       , 'class21':'Orchard', 'class22':'Arboriculture', 'class23':'Nature', 'class25':'Large Fresh Water', 'class26':'Rivers', 'class27':'Misc Waters'}) \n",
    "df7 = df7.loc[:, (df7 != 0).any(axis=0)]\n",
    "# Apply heatmap to cm using pandas styler\n",
    "tca4_heatmap = df7.style.background_gradient(cmap='coolwarm', axis=None)"
   ]
  },
  {
   "cell_type": "code",
   "execution_count": 196,
   "metadata": {
    "execution": {
     "iopub.execute_input": "2020-12-15T15:30:38.524872Z",
     "iopub.status.busy": "2020-12-15T15:30:38.524872Z",
     "iopub.status.idle": "2020-12-15T15:30:38.894476Z",
     "shell.execute_reply": "2020-12-15T15:30:38.894476Z",
     "shell.execute_reply.started": "2020-12-15T15:30:38.524872Z"
    }
   },
   "outputs": [],
   "source": [
    "# Create seaborn heatmap and save to disk\n",
    "plt.figure(figsize=(12, 12))\n",
    "hm_tca4 = sns.heatmap(df7, cmap='coolwarm', fmt=\".4f\", annot=True, square=True, annot_kws={\"size\": 8} \\\n",
    "                , cbar_kws={'label': 'Percentage difference in land-use category assignment','pad': 0.015, 'shrink': .3})\n",
    "_ = hm_tca4.set_xticklabels(hm_tca4.get_xticklabels(), rotation=50)\n",
    "_ = hm_tca4.set_yticklabels(hm_tca4.get_yticklabels(), rotation=0)\n",
    "plt.ylabel('Representative Map Pair', fontsize=16)\n",
    "plt.xlabel('Land-Use Category', fontsize=16) \n",
    "plt.title('Representative Map Comparisons \\n For Total Class Area [Residential]', fontsize=20, pad=1)\n",
    "cbar = hm_tca4.collections[0].colorbar\n",
    "cbar.set_label(label='Percentage difference in land-use category assignment', fontsize=12)\n",
    "\n",
    "plt.savefig('E:/thesis_images/representative_maps/cm_figures/tca4.png', format='png', bbox_inches=\"tight\")\n",
    "plt.close()"
   ]
  },
  {
   "cell_type": "code",
   "execution_count": 44,
   "metadata": {
    "execution": {
     "iopub.execute_input": "2020-12-15T14:26:59.013510Z",
     "iopub.status.busy": "2020-12-15T14:26:59.013510Z",
     "iopub.status.idle": "2020-12-15T14:27:56.013288Z",
     "shell.execute_reply": "2020-12-15T14:27:56.013288Z",
     "shell.execute_reply.started": "2020-12-15T14:26:59.013510Z"
    }
   },
   "outputs": [],
   "source": [
    "# Create CM showing quantity disagreement for tca4 representative maps\n",
    "pland4_data = []\n",
    "pland4_row_name = []\n",
    "pland4_maps = ['map264', 'map1422', 'map1877']\n",
    "iterator = its.permutations(pland4_maps, 2)\n",
    "\n",
    "for dat, row in its.starmap(heatmap_qd, iterator):\n",
    "    pland4_data.append(dat)\n",
    "    pland4_row_name.append(row)\n",
    "    \n",
    "df8 = pd.DataFrame(data=pland4_data, index=pland4_row_name)\n",
    "df8 = df8.rename(columns={'class1':'Railway', 'class2':'Road', 'class3':'Airport', 'class4':'Residential', 'class5':'Industrial', 'class6':'Facillities', 'class7':'Ports' \\\n",
    "        ,'class8':'Construction Area', 'class9':'Semi hardened area', 'class10':'Recreational (daily)', 'class11':'Recreational (residence)' \\\n",
    "       , 'class12':'Grass (residential area)', 'class13':'Greenhouse Horticulture', 'class14':'Corn', 'class15':'Potatoes', 'class16':'Beets' \\\n",
    "        , 'class17':'Grains', 'class18':'Openground Vegatables', 'class19':'Flower bulbs', 'class20':'Pasturage' \\\n",
    "       , 'class21':'Orchard', 'class22':'Arboriculture', 'class23':'Nature', 'class25':'Large Fresh Water', 'class26':'Rivers', 'class27':'Misc Waters'}) \n",
    "df8 = df8.loc[:, (df8 != 0).any(axis=0)]\n",
    "# Apply heatmap to cm using pandas styler\n",
    "pland4_heatmap = df8.style.background_gradient(cmap='coolwarm', axis=None)"
   ]
  },
  {
   "cell_type": "code",
   "execution_count": 198,
   "metadata": {
    "execution": {
     "iopub.execute_input": "2020-12-15T15:31:21.455149Z",
     "iopub.status.busy": "2020-12-15T15:31:21.455149Z",
     "iopub.status.idle": "2020-12-15T15:31:21.827249Z",
     "shell.execute_reply": "2020-12-15T15:31:21.826248Z",
     "shell.execute_reply.started": "2020-12-15T15:31:21.455149Z"
    }
   },
   "outputs": [],
   "source": [
    "# Create seaborn heatmap and save to disk\n",
    "plt.figure(figsize=(12, 12))\n",
    "hm_pland4 = sns.heatmap(df8, cmap='coolwarm', fmt=\".4f\", annot=True, square=True, annot_kws={\"size\": 8} \\\n",
    "                , cbar_kws={'label': 'Percentage difference in land-use category assignment','pad': 0.015, 'shrink': .3})\n",
    "_ = hm_pland4.set_xticklabels(hm_pland4.get_xticklabels(), rotation=50)\n",
    "_ = hm_pland4.set_yticklabels(hm_pland4.get_yticklabels(), rotation=0)\n",
    "plt.ylabel('Representative Map Pair', fontsize=16)\n",
    "plt.xlabel('Land-Use Category', fontsize=16) \n",
    "plt.title('Representative Map Comparisons \\n Percentage Landscape [Residential]', fontsize=20, pad=1)\n",
    "cbar = hm_pland4.collections[0].colorbar\n",
    "cbar.set_label(label='Percentage difference in land-use category assignment', fontsize=12)\n",
    "\n",
    "plt.savefig('E:/thesis_images/representative_maps/cm_figures/pland4.png', format='png', bbox_inches=\"tight\")\n",
    "plt.close()"
   ]
  },
  {
   "cell_type": "code",
   "execution_count": 45,
   "metadata": {
    "execution": {
     "iopub.execute_input": "2020-12-15T14:27:56.014288Z",
     "iopub.status.busy": "2020-12-15T14:27:56.014288Z",
     "iopub.status.idle": "2020-12-15T14:31:06.940970Z",
     "shell.execute_reply": "2020-12-15T14:31:06.940970Z",
     "shell.execute_reply.started": "2020-12-15T14:27:56.014288Z"
    }
   },
   "outputs": [],
   "source": [
    "# Create CM showing quantity disagreement for tca4 representative maps\n",
    "tca14_data = []\n",
    "tca14_row_name = []\n",
    "tca14_maps = ['map246', 'map296', 'map325', 'map825', 'map1612']\n",
    "iterator = its.permutations(tca14_maps, 2)\n",
    "\n",
    "for dat, row in its.starmap(heatmap_qd, iterator):\n",
    "    tca14_data.append(dat)\n",
    "    tca14_row_name.append(row)\n",
    "    \n",
    "df9 = pd.DataFrame(data=tca14_data, index=tca14_row_name)\n",
    "df9 = df9.rename(columns={'class1':'Railway', 'class2':'Road', 'class3':'Airport', 'class4':'Residential', 'class5':'Industrial', 'class6':'Facillities', 'class7':'Ports' \\\n",
    "        ,'class8':'Construction Area', 'class9':'Semi hardened area', 'class10':'Recreational (daily)', 'class11':'Recreational (residence)' \\\n",
    "       , 'class12':'Grass (residential area)', 'class13':'Greenhouse Horticulture', 'class14':'Corn', 'class15':'Potatoes', 'class16':'Beets' \\\n",
    "        , 'class17':'Grains', 'class18':'Openground Vegatables', 'class19':'Flower bulbs', 'class20':'Pasturage' \\\n",
    "       , 'class21':'Orchard', 'class22':'Arboriculture', 'class23':'Nature', 'class25':'Large Fresh Water', 'class26':'Rivers', 'class27':'Misc Waters'}) \n",
    "df9 = df9.loc[:, (df9 != 0).any(axis=0)]\n",
    "# Apply heatmap to cm using pandas styler\n",
    "tca14_heatmap = df9.style.background_gradient(cmap='coolwarm', axis=None)"
   ]
  },
  {
   "cell_type": "code",
   "execution_count": 203,
   "metadata": {
    "execution": {
     "iopub.execute_input": "2020-12-15T15:32:24.436149Z",
     "iopub.status.busy": "2020-12-15T15:32:24.436149Z",
     "iopub.status.idle": "2020-12-15T15:32:25.350354Z",
     "shell.execute_reply": "2020-12-15T15:32:25.350354Z",
     "shell.execute_reply.started": "2020-12-15T15:32:24.436149Z"
    }
   },
   "outputs": [],
   "source": [
    "# Create seaborn heatmap and save to disk\n",
    "plt.figure(figsize=(12, 12))\n",
    "hm_tca14 = sns.heatmap(df9, cmap='coolwarm', fmt=\".4f\", annot=True, square=True, annot_kws={\"size\": 8} \\\n",
    "                , cbar_kws={'label': 'Percentage difference in land-use category assignment','pad': 0.015, 'shrink': .5})\n",
    "_ = hm_tca14.set_xticklabels(hm_tca14.get_xticklabels(), rotation=65)\n",
    "_ = hm_tca14.set_yticklabels(hm_tca14.get_yticklabels(), rotation=0)\n",
    "plt.ylabel('Representative Map Pair', fontsize=16)\n",
    "plt.xlabel('Land-Use Category', fontsize=16) \n",
    "plt.title('Representative Map Comparisons \\n For Total Class Area [Corn]', fontsize=20, pad=1)\n",
    "cbar = hm_tca14.collections[0].colorbar\n",
    "cbar.set_label(label='Percentage difference in land-use category assignment', fontsize=12)\n",
    "\n",
    "plt.savefig('E:/thesis_images/representative_maps/cm_figures/tca14.png', format='png', bbox_inches=\"tight\")\n",
    "plt.close()"
   ]
  },
  {
   "cell_type": "code",
   "execution_count": 46,
   "metadata": {
    "execution": {
     "iopub.execute_input": "2020-12-15T14:31:06.941970Z",
     "iopub.status.busy": "2020-12-15T14:31:06.941970Z",
     "iopub.status.idle": "2020-12-15T14:34:19.364960Z",
     "shell.execute_reply": "2020-12-15T14:34:19.364960Z",
     "shell.execute_reply.started": "2020-12-15T14:31:06.941970Z"
    }
   },
   "outputs": [],
   "source": [
    "# Create CM showing quantity disagreement for tca4 representative maps\n",
    "pland14_data = []\n",
    "pland14_row_name = []\n",
    "pland14_maps = ['map246', 'map325', 'map564', 'map704', 'map843']\n",
    "iterator = its.permutations(pland14_maps, 2)\n",
    "\n",
    "for dat, row in its.starmap(heatmap_qd, iterator):\n",
    "    pland14_data.append(dat)\n",
    "    pland14_row_name.append(row)\n",
    "    \n",
    "df10 = pd.DataFrame(data=pland14_data, index=pland14_row_name)\n",
    "df10 = df10.rename(columns={'class1':'Railway', 'class2':'Road', 'class3':'Airport', 'class4':'Residential', 'class5':'Industrial', 'class6':'Facillities', 'class7':'Ports' \\\n",
    "        ,'class8':'Construction Area', 'class9':'Semi hardened area', 'class10':'Recreational (daily)', 'class11':'Recreational (residence)' \\\n",
    "       , 'class12':'Grass (residential area)', 'class13':'Greenhouse Horticulture', 'class14':'Corn', 'class15':'Potatoes', 'class16':'Beets' \\\n",
    "        , 'class17':'Grains', 'class18':'Openground Vegatables', 'class19':'Flower bulbs', 'class20':'Pasturage' \\\n",
    "       , 'class21':'Orchard', 'class22':'Arboriculture', 'class23':'Nature', 'class25':'Large Fresh Water', 'class26':'Rivers', 'class27':'Misc Waters'}) \n",
    "df10 = df10.loc[:, (df10 != 0).any(axis=0)]\n",
    "# Apply heatmap to cm using pandas styler\n",
    "pland14_heatmap = df10.style.background_gradient(cmap='coolwarm', axis=None)"
   ]
  },
  {
   "cell_type": "code",
   "execution_count": 207,
   "metadata": {
    "execution": {
     "iopub.execute_input": "2020-12-15T15:33:15.308406Z",
     "iopub.status.busy": "2020-12-15T15:33:15.308406Z",
     "iopub.status.idle": "2020-12-15T15:33:16.217968Z",
     "shell.execute_reply": "2020-12-15T15:33:16.217968Z",
     "shell.execute_reply.started": "2020-12-15T15:33:15.308406Z"
    }
   },
   "outputs": [],
   "source": [
    "# Create seaborn heatmap and save to disk\n",
    "plt.figure(figsize=(12, 12))\n",
    "hm_pland14 = sns.heatmap(df10, cmap='coolwarm', fmt=\".4f\", annot=True, square=True, annot_kws={\"size\": 8} \\\n",
    "                , cbar_kws={'label': 'Percentage difference in land-use category assignment','pad': 0.015, 'shrink': .5})\n",
    "_ = hm_pland14.set_xticklabels(hm_pland14.get_xticklabels(), rotation=65)\n",
    "_ = hm_pland14.set_yticklabels(hm_pland14.get_yticklabels(), rotation=0)\n",
    "plt.ylabel('Representative Map Pair', fontsize=16)\n",
    "plt.xlabel('Land-Use Category', fontsize=16) \n",
    "plt.title('Representative Map Comparisons \\n For Percentage Landscape [Corn]', fontsize=20, pad=1)\n",
    "cbar = hm_pland14.collections[0].colorbar\n",
    "cbar.set_label(label='Percentage difference in land-use category assignment', fontsize=12)\n",
    "plt.savefig('E:/thesis_images/representative_maps/cm_figures/pland14.png', format='png', bbox_inches=\"tight\")\n",
    "plt.close()"
   ]
  },
  {
   "cell_type": "code",
   "execution_count": 4,
   "metadata": {
    "execution": {
     "iopub.execute_input": "2020-12-15T13:38:47.577495Z",
     "iopub.status.busy": "2020-12-15T13:38:47.577495Z",
     "iopub.status.idle": "2020-12-15T13:39:44.754124Z",
     "shell.execute_reply": "2020-12-15T13:39:44.754124Z",
     "shell.execute_reply.started": "2020-12-15T13:38:47.577495Z"
    }
   },
   "outputs": [],
   "source": [
    "# Create CM showing quantity disagreement for tca4 representative maps\n",
    "# TCA22 and PLAND 22 have the same representative maps so only TCA will be done for both of them\n",
    "tca22_data = []\n",
    "tca22_row_name = []\n",
    "tca22_maps = ['map0', 'map8', 'map35']\n",
    "iterator = its.permutations(tca22_maps, 2)\n",
    "\n",
    "for dat, row in its.starmap(heatmap_qd, iterator):\n",
    "    tca22_data.append(dat)\n",
    "    tca22_row_name.append(row)\n",
    "    \n",
    "df11 = pd.DataFrame(data=tca22_data, index=tca22_row_name)\n",
    "df11 = df11.rename(columns={'class1':'Railway', 'class2':'Road', 'class3':'Airport', 'class4':'Residential', 'class5':'Industrial', 'class6':'Facillities', 'class7':'Ports' \\\n",
    "        ,'class8':'Construction Area', 'class9':'Semi hardened area', 'class10':'Recreational (daily)', 'class11':'Recreational (residence)' \\\n",
    "       , 'class12':'Grass (residential area)', 'class13':'Greenhouse Horticulture', 'class14':'Corn', 'class15':'Potatoes', 'class16':'Beets' \\\n",
    "        , 'class17':'Grains', 'class18':'Openground Vegatables', 'class19':'Flower bulbs', 'class20':'Pasturage' \\\n",
    "       , 'class21':'Orchard', 'class22':'Arboriculture', 'class23':'Nature', 'class25':'Large Fresh Water', 'class26':'Rivers', 'class27':'Misc Waters'}) \n",
    "df11 = df11.loc[:, (df11 != 0).any(axis=0)]\n",
    "# Apply heatmap to cm using pandas styler\n",
    "tca22_heatmap = df11.style.background_gradient(cmap='coolwarm', axis=None)"
   ]
  },
  {
   "cell_type": "code",
   "execution_count": 212,
   "metadata": {
    "execution": {
     "iopub.execute_input": "2020-12-15T15:34:16.607479Z",
     "iopub.status.busy": "2020-12-15T15:34:16.607479Z",
     "iopub.status.idle": "2020-12-15T15:34:17.035077Z",
     "shell.execute_reply": "2020-12-15T15:34:17.035077Z",
     "shell.execute_reply.started": "2020-12-15T15:34:16.607479Z"
    }
   },
   "outputs": [],
   "source": [
    "# Create seaborn heatmap and save to disk\n",
    "plt.figure(figsize=(12, 12))\n",
    "hm_tca22 = sns.heatmap(df11, cmap='coolwarm', fmt=\".4f\", annot=True, square=True, annot_kws={\"size\": 8} \\\n",
    "                , cbar_kws={'label': 'Percentage difference in land-use category assignment','pad': 0.015, 'shrink': .3})\n",
    "_ = hm_tca22.set_xticklabels(hm_tca22.get_xticklabels(), rotation=65)\n",
    "_ = hm_tca22.set_yticklabels(hm_tca22.get_yticklabels(), rotation=0)\n",
    "plt.ylabel('Representative Map Pair', fontsize=16)\n",
    "plt.xlabel('Land-Use Category', fontsize=16) \n",
    "plt.title('Representative Map Comparisons \\n For Total Class Area [Nature]', fontsize=20, pad=1)\n",
    "cbar = hm_tca22.collections[0].colorbar\n",
    "cbar.set_label(label='Percentage difference in land-use category assignment', fontsize=12)\n",
    "\n",
    "plt.savefig('E:/thesis_images/representative_maps/cm_figures/tca22.png', format='png', bbox_inches=\"tight\")\n",
    "plt.close()"
   ]
  },
  {
   "cell_type": "code",
   "execution_count": 35,
   "metadata": {
    "execution": {
     "iopub.execute_input": "2020-12-15T13:59:53.214014Z",
     "iopub.status.busy": "2020-12-15T13:59:53.214014Z",
     "iopub.status.idle": "2020-12-15T14:00:50.684198Z",
     "shell.execute_reply": "2020-12-15T14:00:50.684198Z",
     "shell.execute_reply.started": "2020-12-15T13:59:53.214014Z"
    }
   },
   "outputs": [],
   "source": [
    "# Create CM showing quantity disagreement for qd22 representative maps\n",
    "qd22_data = []\n",
    "qd22_row_name = []\n",
    "qd22_maps = ['map0', 'map1', 'map8']\n",
    "iterator = its.permutations(qd22_maps, 2)\n",
    "\n",
    "for dat, row in its.starmap(heatmap_qd, iterator):\n",
    "    qd22_data.append(dat)\n",
    "    qd22_row_name.append(row)\n",
    "    \n",
    "df12 = pd.DataFrame(data=qd22_data, index=qd22_row_name)\n",
    "df12 = df12.rename(columns={'class1':'Railway', 'class2':'Road', 'class3':'Airport', 'class4':'Residential', 'class5':'Industrial', 'class6':'Facillities', 'class7':'Ports' \\\n",
    "        ,'class8':'Construction Area', 'class9':'Semi hardened area', 'class10':'Recreational (daily)', 'class11':'Recreational (residence)' \\\n",
    "       , 'class12':'Grass (residential area)', 'class13':'Greenhouse Horticulture', 'class14':'Corn', 'class15':'Potatoes', 'class16':'Beets' \\\n",
    "        , 'class17':'Grains', 'class18':'Openground Vegatables', 'class19':'Flower bulbs', 'class20':'Pasturage' \\\n",
    "       , 'class21':'Orchard', 'class22':'Arboriculture', 'class23':'Nature', 'class25':'Large Fresh Water', 'class26':'Rivers', 'class27':'Misc Waters'}) \n",
    "df12 = df12.loc[:, (df12 != 0).any(axis=0)]\n",
    "# Apply heatmap to cm using pandas styler\n",
    "qd22_heatmap = df12.style.background_gradient(cmap='coolwarm', axis=None)"
   ]
  },
  {
   "cell_type": "code",
   "execution_count": 217,
   "metadata": {
    "execution": {
     "iopub.execute_input": "2020-12-15T15:37:55.275836Z",
     "iopub.status.busy": "2020-12-15T15:37:55.275836Z",
     "iopub.status.idle": "2020-12-15T15:37:55.704932Z",
     "shell.execute_reply": "2020-12-15T15:37:55.704932Z",
     "shell.execute_reply.started": "2020-12-15T15:37:55.275836Z"
    }
   },
   "outputs": [],
   "source": [
    "# Create seaborn heatmap and save to disk\n",
    "plt.figure(figsize=(12, 12))\n",
    "hm_qd22 = sns.heatmap(df12, cmap='coolwarm', fmt=\".4f\", annot=True, square=True, annot_kws={\"size\": 8} \\\n",
    "                , cbar_kws={'label': 'Percentage difference in land-use category assignment','pad': 0.015, 'shrink': .25})\n",
    "_ = hm_qd22.set_xticklabels(hm_qd22.get_xticklabels(), rotation=60)\n",
    "_ = hm_qd22.set_yticklabels(hm_qd22.get_yticklabels(), rotation=0)\n",
    "plt.ylabel('Representative Map Pair', fontsize=16)\n",
    "plt.xlabel('Land-Use Category', fontsize=16) \n",
    "plt.title('Representative Map Comparisons \\n For Quantity Difference [Nature]', fontsize=20, pad=1)\n",
    "cbar = hm_qd22.collections[0].colorbar\n",
    "cbar.set_label(label='Percentage difference in land-use category assignment', fontsize=12)\n",
    "plt.savefig('E:/thesis_images/representative_maps/cm_figures/qd22.png', format='png', bbox_inches=\"tight\")\n",
    "plt.close()"
   ]
  },
  {
   "cell_type": "code",
   "execution_count": 21,
   "metadata": {
    "execution": {
     "iopub.execute_input": "2020-12-06T11:14:55.198365Z",
     "iopub.status.busy": "2020-12-06T11:14:55.198365Z",
     "iopub.status.idle": "2020-12-06T11:14:58.979733Z",
     "shell.execute_reply": "2020-12-06T11:14:58.979733Z",
     "shell.execute_reply.started": "2020-12-06T11:14:55.198365Z"
    }
   },
   "outputs": [],
   "source": [
    "# Store all heatmaps in an excel\n",
    "heatmap_to_excel(kappa_heatmap, 'kappa')\n",
    "heatmap_to_excel(oa_heatmap, 'oa')\n",
    "heatmap_to_excel(shan_heatmap, 'shan')\n",
    "heatmap_to_excel(simp_heatmap, 'simp')\n",
    "heatmap_to_excel(oad_heatmap, 'oad')\n",
    "heatmap_to_excel(oqd_heatmap, 'oqd')\n",
    "heatmap_to_excel(tca4_heatmap, 'tca4')\n",
    "heatmap_to_excel(pland4_heatmap, 'pland4')\n",
    "heatmap_to_excel(tca14_heatmap, 'tca14')\n",
    "heatmap_to_excel(pland14_heatmap, 'pland14')\n",
    "heatmap_to_excel(tca22_heatmap, 'tca22')\n",
    "heatmap_to_excel(qd22_heatmap, 'qd22')"
   ]
  }
 ],
 "metadata": {
  "kernelspec": {
   "display_name": "Python 3",
   "language": "python",
   "name": "python3"
  },
  "language_info": {
   "codemirror_mode": {
    "name": "ipython",
    "version": 3
   },
   "file_extension": ".py",
   "mimetype": "text/x-python",
   "name": "python",
   "nbconvert_exporter": "python",
   "pygments_lexer": "ipython3",
   "version": "3.7.3"
  }
 },
 "nbformat": 4,
 "nbformat_minor": 4
}
