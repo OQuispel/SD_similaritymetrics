{
 "cells": [
  {
   "cell_type": "code",
   "execution_count": 1,
   "metadata": {
    "execution": {
     "iopub.execute_input": "2020-09-22T08:41:37.773773Z",
     "iopub.status.busy": "2020-09-22T08:41:37.773773Z",
     "iopub.status.idle": "2020-09-22T08:41:37.845131Z",
     "shell.execute_reply": "2020-09-22T08:41:37.845131Z",
     "shell.execute_reply.started": "2020-09-22T08:41:37.773773Z"
    }
   },
   "outputs": [],
   "source": [
    "import maps_to_asc as conv\n",
    "from multiprocessing import Pool\n",
    "import multiprocessing.pool as mpp\n",
    "from tqdm import tqdm"
   ]
  },
  {
   "cell_type": "code",
   "execution_count": 4,
   "metadata": {
    "execution": {
     "iopub.execute_input": "2020-09-22T08:42:24.083427Z",
     "iopub.status.busy": "2020-09-22T08:42:24.083427Z",
     "iopub.status.idle": "2020-09-22T08:42:38.082673Z",
     "shell.execute_reply": "2020-09-22T08:42:38.082673Z",
     "shell.execute_reply.started": "2020-09-22T08:42:24.083427Z"
    }
   },
   "outputs": [],
   "source": [
    "iterable = [i for i in range(4)]\n",
    "with Pool(16) as pool:\n",
    "    pool.map(conv.numpy2asc, iterable)"
   ]
  },
  {
   "cell_type": "code",
   "execution_count": null,
   "metadata": {},
   "outputs": [],
   "source": [
    "def istarmap(self, func, iterable, chunksize=1):\n",
    "    \"\"\"starmap-version of imap\n",
    "    \"\"\"\n",
    "    if self._state != mpp.RUN:\n",
    "        raise ValueError(\"Pool not running\")\n",
    "\n",
    "    if chunksize < 1:\n",
    "        raise ValueError(\n",
    "            \"Chunksize must be 1+, not {0:n}\".format(\n",
    "                chunksize))\n",
    "\n",
    "    task_batches = mpp.Pool._get_tasks(func, iterable, chunksize)\n",
    "    result = mpp.IMapIterator(self._cache)\n",
    "    self._taskqueue.put(\n",
    "        (\n",
    "            self._guarded_task_generation(result._job,\n",
    "                                          mpp.starmapstar,\n",
    "                                          task_batches),\n",
    "            result._set_length\n",
    "        ))\n",
    "    return (item for chunk in result for item in chunk)\n",
    "\n",
    "\n",
    "mpp.Pool.istarmap = istarmap"
   ]
  },
  {
   "cell_type": "code",
   "execution_count": null,
   "metadata": {},
   "outputs": [],
   "source": [
    "conv.numpy2asc(0)"
   ]
  },
  {
   "cell_type": "code",
   "execution_count": null,
   "metadata": {},
   "outputs": [],
   "source": [
    "[i for i in range(4)]"
   ]
  },
  {
   "cell_type": "code",
   "execution_count": null,
   "metadata": {},
   "outputs": [],
   "source": [
    "with Pool(16) as pool:\n",
    "    iterable = tqdm([i for i in range(4)], total=len(iterable))\n",
    "    pool.istarmap(conv.numpy2asc, iterable)"
   ]
  }
 ],
 "metadata": {
  "kernelspec": {
   "display_name": "Python 3",
   "language": "python",
   "name": "python3"
  },
  "language_info": {
   "codemirror_mode": {
    "name": "ipython",
    "version": 3
   },
   "file_extension": ".py",
   "mimetype": "text/x-python",
   "name": "python",
   "nbconvert_exporter": "python",
   "pygments_lexer": "ipython3",
   "version": "3.7.3"
  }
 },
 "nbformat": 4,
 "nbformat_minor": 4
}
